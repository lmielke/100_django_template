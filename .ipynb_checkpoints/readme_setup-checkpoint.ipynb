{
 "cells": [
  {
   "cell_type": "markdown",
   "metadata": {},
   "source": [
    "# 100_django_template"
   ]
  },
  {
   "cell_type": "code",
   "execution_count": 1,
   "metadata": {
    "collapsed": true,
    "jupyter": {
     "outputs_hidden": true
    }
   },
   "outputs": [],
   "source": [
    "def imports():\n",
    "    # imports needed to run installation routine\n",
    "    import multiprocessing, os, shutil, subprocess, time"
   ]
  },
  {
   "cell_type": "markdown",
   "metadata": {},
   "source": [
    "# 1. What am I"
   ]
  },
  {
   "cell_type": "markdown",
   "metadata": {},
   "source": [
    "This is a simple django template with some pre implemented features such as:\n",
    "- user signup, email confirmation,\n",
    "- user logon, password create/change\n",
    "- user authorization middleware\n",
    "- blog style article/blog page to allow in tool documentation and commenting\n",
    "- some param settings to allow multiple domains to map to this template (you may not need this, to remove, you have to make some changes the existing models and forms)\n",
    "- some pre defined css sheet"
   ]
  },
  {
   "cell_type": "markdown",
   "metadata": {},
   "source": [
    "# 2. Setup and installation using this notebook"
   ]
  },
  {
   "cell_type": "markdown",
   "metadata": {},
   "source": [
    "This will clone the repository to your local drive, create a environment and install the requirements.txt, create a new git repro and commit all files.\n",
    "\n",
    "If on Windows, just use the commands as provided\n",
    "1. Clone repo into folder in which this repo will exist          --> (cd [venvs folder] && git clone https://github.com/lmielke/100_django_template.git)\n",
    "2. Copy the readme_setup.py file into your venvs folder        --> (cd 100_django_template && copy readme_setup.py .. && cd ..)\n",
    "3. Run readme_setup.py --> (readme_setup.py)\n",
    "\n",
    "    NOTE: The readme_setup.py is a nbconvert of this notebook. If necessary  it can be created by typing (jupyter nbconvert --to script readme_setup.ipynb) inside the repo folder.\n",
    "4. Enter ProjectName (you can change the repo name here)\n",
    "5. Remove setup file --> (del/rm readme_setup.py)"
   ]
  },
  {
   "cell_type": "code",
   "execution_count": 2,
   "metadata": {
    "collapsed": true,
    "jupyter": {
     "outputs_hidden": true
    }
   },
   "outputs": [],
   "source": [
    "def names():\n",
    "    # enter project name\n",
    "    # name of the project folder, that contains django project and django venv\n",
    "    cloneProjectName = \"100_django_template\"\n",
    "    yourProjectName = input(\"input your project name: \")"
   ]
  },
  {
   "cell_type": "code",
   "execution_count": 3,
   "metadata": {
    "collapsed": true,
    "jupyter": {
     "outputs_hidden": true
    }
   },
   "outputs": [],
   "source": [
    "def paths():\n",
    "    # this is the name of your Project Folder where the all your projects and venvs live\n",
    "    venvsPath = os.getcwd()\n",
    "    go = input(f\"venv: {cloneProjectName} will be installed in: {venvsPath}/{yourProjectName}, [Y/N]: \")\n",
    "    if go == \"Y\":\n",
    "        print(\"\\nstarting installation\")\n",
    "    else:\n",
    "        raise Exception(\"instalation aborted, to retry import readme_setup again\")"
   ]
  },
  {
   "cell_type": "code",
   "execution_count": 4,
   "metadata": {
    "collapsed": true,
    "jupyter": {
     "outputs_hidden": true
    }
   },
   "outputs": [],
   "source": [
    "def stuff():\n",
    "    # some secrets are imported into settings.py from my_stuff.py\n",
    "    # a default my_stuff.py already exists inside the same folder as settings.py\n",
    "\n",
    "    # to continue with the default my_stuff.py file just assign a None value below and continue\n",
    "    myStuffPath = os.path.join(venvsPath, \"99_snipp_block\", \"dj_conf_files\", \"my_stuff.py\")"
   ]
  },
  {
   "cell_type": "markdown",
   "metadata": {},
   "source": [
    "## 2.1. Install Preparation\n",
    "### 2.1.1 Define relevant paths"
   ]
  },
  {
   "cell_type": "markdown",
   "metadata": {},
   "source": [
    "### 2.1.2 Notebook does some prep work such as checking if venv exists and create some relevant paths"
   ]
  },
  {
   "cell_type": "code",
   "execution_count": 5,
   "metadata": {
    "collapsed": true,
    "jupyter": {
     "outputs_hidden": true
    }
   },
   "outputs": [],
   "source": [
    "def check():\n",
    "    # checks if venv already exists\n",
    "    # no need to modify\n",
    "    existingEnvironments = os.listdir(venvsPath)\n",
    "    if yourProjectName in existingEnvironments:\n",
    "        raise Exception(f\"UUUUPPPPSSS: AN Environement with name {yourProjectName} already exists in {venvsPath} \\n{existingEnvironments}\")\n",
    "    else:\n",
    "        print(\"ready to go\")"
   ]
  },
  {
   "cell_type": "markdown",
   "metadata": {},
   "source": [
    "### 2.1.3. venv directory will be renamed to what you specified above"
   ]
  },
  {
   "cell_type": "code",
   "execution_count": 6,
   "metadata": {
    "collapsed": true,
    "jupyter": {
     "outputs_hidden": true
    }
   },
   "outputs": [],
   "source": [
    "def rename():\n",
    "    os.chdir(venvsPath)\n",
    "    os.rename(cloneProjectName, yourProjectName)"
   ]
  },
  {
   "cell_type": "markdown",
   "metadata": {},
   "source": [
    "# 2.2. Install Environment"
   ]
  },
  {
   "cell_type": "code",
   "execution_count": 7,
   "metadata": {
    "collapsed": true,
    "jupyter": {
     "outputs_hidden": true
    }
   },
   "outputs": [],
   "source": [
    "def create():\n",
    "    # this creates a empty environment inside yourVenvPath\n",
    "    yourProjectPath = os.path.join(venvsPath, yourProjectName)\n",
    "    subprocess.call([\"python\", \"-m\", \"venv\", os.path.join(yourProjectPath, \"venv\")], shell=True)"
   ]
  },
  {
   "cell_type": "code",
   "execution_count": 8,
   "metadata": {
    "collapsed": true,
    "jupyter": {
     "outputs_hidden": true
    }
   },
   "outputs": [],
   "source": [
    "def copy():\n",
    "    # this copies files to allow subprocess to activate your environment\n",
    "    newEnvActPy = os.path.join(yourProjectPath, \"venv\", \"Scripts\", \"activate_this.py\")\n",
    "    shutil.copyfile(os.path.join(yourProjectPath, \"resources\", \"activate_this.py\"), newEnvActPy)"
   ]
  },
  {
   "cell_type": "code",
   "execution_count": 9,
   "metadata": {
    "collapsed": true,
    "jupyter": {
     "outputs_hidden": true
    }
   },
   "outputs": [],
   "source": [
    "def cpstuff():\n",
    "    # this copies my private my_stuff.py file from your local location into the venv\n",
    "    # if you have assigned None to the myStuffPath this step will do nothing\n",
    "    # you have to manually adjust your my_stuff.py file however. Its location is same as settings.py\n",
    "    try:\n",
    "        print(myStuffPath)\n",
    "        shutil.copyfile(myStuffPath, os.path.join(yourProjectPath, \"web_project\", \"web_project\", \"my_stuff.py\"))\n",
    "    except:\n",
    "        raise Exception(\"copying my_stuff.py failed because path does not exist! You have to manually adjust my_stuff.py. Its location is same as settings.py\")"
   ]
  },
  {
   "cell_type": "markdown",
   "metadata": {},
   "source": [
    "### 2.2.1. Installs all content of new environment, i.e. requirements.txt ect."
   ]
  },
  {
   "cell_type": "code",
   "execution_count": 10,
   "metadata": {
    "collapsed": true,
    "jupyter": {
     "outputs_hidden": true
    }
   },
   "outputs": [],
   "source": [
    "def installs():\n",
    "    exec(open(newEnvActPy).read(), dict(__file__ = newEnvActPy))\n",
    "    # all relevant programs are installed and/or updated\n",
    "    # feel free to add or remove programs\n",
    "    subprocess.call([\"python\", \"-m\", \"pip\", \"install\", \"--upgrade\", \"pip\"], shell=True)\n",
    "    subprocess.call([\"pip\", \"install\", \"--upgrade\", \"setuptools\"], shell=True)\n",
    "\n",
    "    # i use pyperclip inside some service scripts, its not needed for this repo to run, you can remove it\n",
    "    subprocess.call([\"pip\", \"install\", \"pyperclip\"], shell=True)\n",
    "\n",
    "    # this installs the requirements.txt\n",
    "    subprocess.call([\"pip\", \"install\", \"-r\", os.path.join(yourProjectPath, \"resources\", \"requirements.txt\")], shell=True)"
   ]
  },
  {
   "cell_type": "markdown",
   "metadata": {},
   "source": [
    "### 2.2.2. Try migrations"
   ]
  },
  {
   "cell_type": "code",
   "execution_count": 11,
   "metadata": {
    "collapsed": true,
    "jupyter": {
     "outputs_hidden": true
    }
   },
   "outputs": [],
   "source": [
    "def migrations():\n",
    "    # this makes migrations although there should be none\n",
    "    os.chdir(os.path.join(yourProjectPath, \"web_project\"))\n",
    "    print(f\"your manage.py is under {os.getcwd()}\")\n",
    "    subprocess.call(['python', 'manage.py', 'makemigrations'], shell=True)\n",
    "    subprocess.call(['python', 'manage.py', 'migrate'], shell=True)"
   ]
  },
  {
   "cell_type": "code",
   "execution_count": 15,
   "metadata": {
    "collapsed": true,
    "jupyter": {
     "outputs_hidden": true
    }
   },
   "outputs": [],
   "source": [
    "def main():\n",
    "    imports()\n",
    "    names()\n",
    "    paths()\n",
    "    stuff()\n",
    "    check()\n",
    "    renmame()\n",
    "    create()\n",
    "    copy()\n",
    "    cpstuff()\n",
    "    installs()\n",
    "    migrations()"
   ]
  },
  {
   "cell_type": "markdown",
   "metadata": {},
   "source": [
    "# The installation is now complete.\n",
    "\n",
    "Dont forget to:\n",
    "1. change the my_stuff.py file (its in the same dir as settings.py)\n",
    "2. Activate your environment: To activate it, type {{yourVenvPath}}\\Scripts/activate.bat (on windows)\n",
    "3. Create your admin user: To create it, go to the web_project folder and and run: manage.py createsuperuser\n",
    "4. Test your installation!!! To test it, go to the web_project folder and and run: python manage.py runserver"
   ]
  },
  {
   "cell_type": "code",
   "execution_count": 13,
   "metadata": {
    "collapsed": true,
    "jupyter": {
     "outputs_hidden": true
    }
   },
   "outputs": [],
   "source": [
    "def run_server():\n",
    "    CHPID = os.getpid()\n",
    "    print(CHPID)\n",
    "    exec(open(r\"C:\\python_venvs\\101_django_template\\venv\\Scripts\\activate_this.py\").read(), dict(__file__ = r\"C:\\python_venvs\\101_django_template\\venv\\Scripts\\activate_this.py\"))\n",
    "    subprocess.call(['python', 'manage.py', 'runserver'], shell=True)\n",
    "    return CHPID"
   ]
  },
  {
   "cell_type": "code",
   "execution_count": 14,
   "metadata": {
    "collapsed": true,
    "jupyter": {
     "outputs_hidden": true
    }
   },
   "outputs": [],
   "source": [
    "def test_server():\n",
    "    import requests, time\n",
    "    from datetime import datetime as dt\n",
    "    from datetime import timedelta as td\n",
    "    # timeCheck = requests.get(\"http://localhost:8000\").text.find(f\"{dt.now() - td(hours=2):%H:%M}\")\n",
    "    # success = True if timeCheck != -1 else False\n",
    "    match = re.compile(r\"(<CHPID>)(\\d{3,6})(</CHPID>)\")\n",
    "    prcId = re.search(match, requests.get(\"http://localhost:8000\").text)[2]\n",
    "    subprocess.call(['TASKKILL', '/PID', str(prcId), '/F'], shell=True)\n",
    "    if prcId:\n",
    "        print(f\"\\n\\n\\tSUCCSESS: Server ran successfully with prcId: {prcId}\\n\\n\")\n",
    "    else:\n",
    "        print(f\"\\n\\n\\tWARNING: Server run could not be confirmed\\n\\n\")\n",
    "    return True"
   ]
  },
  {
   "cell_type": "code",
   "execution_count": null,
   "metadata": {
    "collapsed": true,
    "jupyter": {
     "outputs_hidden": true
    }
   },
   "outputs": [],
   "source": [
    "if __name__ == '__main__':\n",
    "    print(__name__)\n",
    "    prcId = None\n",
    "    main = multiprocessing.Process(target=main)\n",
    "    run = multiprocessing.Process(target=run_server)\n",
    "    test = multiprocessing.Process(target=test_server)\n",
    "    main.start()\n",
    "    main.join()\n",
    "    print(\"install is done\")\n",
    "    run.start()\n",
    "    run.join()\n",
    "    print(\"server run done\")\n",
    "    test.start()\n",
    "    test.join()\n",
    "    print(\"INSTALL COMPLETE\")"
   ]
  },
  {
   "cell_type": "markdown",
   "metadata": {},
   "source": [
    "# 3. Manual Setup\n",
    "## 3.1. Clone the repo and run above steps manually :)"
   ]
  },
  {
   "cell_type": "code",
   "execution_count": null,
   "metadata": {
    "collapsed": true,
    "jupyter": {
     "outputs_hidden": true
    }
   },
   "outputs": [],
   "source": []
  }
 ],
 "metadata": {
  "kernelspec": {
   "display_name": "Python 3",
   "language": "python",
   "name": "python3"
  },
  "language_info": {
   "codemirror_mode": {
    "name": "ipython",
    "version": 3
   },
   "file_extension": ".py",
   "mimetype": "text/x-python",
   "name": "python",
   "nbconvert_exporter": "python",
   "pygments_lexer": "ipython3",
   "version": "3.7.4"
  }
 },
 "nbformat": 4,
 "nbformat_minor": 4
}
