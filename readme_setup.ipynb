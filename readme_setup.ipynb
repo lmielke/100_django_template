{
 "cells": [
  {
   "cell_type": "markdown",
   "metadata": {},
   "source": [
    "# 100_django_template"
   ]
  },
  {
   "cell_type": "code",
   "execution_count": 2,
   "metadata": {
    "collapsed": true,
    "jupyter": {
     "outputs_hidden": true
    }
   },
   "outputs": [],
   "source": [
    "from IPython.display import Image\n",
    "# imports needed to run installation routine\n",
    "import os, shutil, subprocess"
   ]
  },
  {
   "cell_type": "markdown",
   "metadata": {},
   "source": [
    "# 1. What am I"
   ]
  },
  {
   "cell_type": "markdown",
   "metadata": {},
   "source": [
    "This is a simple django template with some pre implemented features such as:\n",
    "- user signup, email confirmation,\n",
    "- user logon, password create/change\n",
    "- user authorization middleware\n",
    "- blog style article/blog page to allow in tool documentation and commenting\n",
    "- some param settings to allow multiple domains to map to this template (you may not need this, to remove, you have to make some changes the existing models and forms)\n",
    "- some pre defined css sheet"
   ]
  },
  {
   "cell_type": "markdown",
   "metadata": {},
   "source": [
    "# 2. Setup and installation using this notebook"
   ]
  },
  {
   "cell_type": "markdown",
   "metadata": {},
   "source": [
    "This will clone the repository to your local drive, create a environment and install the requirements.txt, create a new git repro and commit all files\n",
    "1. clone repo into your venvs location, using: git clone https://github.com/lmielke/100_django_template.git\n",
    "2. change to the newly created project folder\n",
    "3. in your cmd type: python (NOTE: you might have to run [jupyter nbconvert --to script readme_setup.ipynb] first to allow the following steps)\n",
    "4. in your python cmd type: import readme_setup\n",
    "5. enter ProjectName and ProjectPath when prompted"
   ]
  },
  {
   "cell_type": "code",
   "execution_count": 3,
   "metadata": {
    "collapsed": true,
    "jupyter": {
     "outputs_hidden": true
    }
   },
   "outputs": [
    {
     "name": "stdin",
     "output_type": "stream",
     "text": [
      "input your project name:  101_django_template\n"
     ]
    }
   ],
   "source": [
    "# enter project name\n",
    "# name of the project folder, that contains django project and django venv\n",
    "cloneProjectName = \"100_django_template\"\n",
    "yourProjectName = input(\"input your project name: \")"
   ]
  },
  {
   "cell_type": "code",
   "execution_count": 4,
   "metadata": {
    "collapsed": true,
    "jupyter": {
     "outputs_hidden": true
    }
   },
   "outputs": [
    {
     "name": "stdin",
     "output_type": "stream",
     "text": [
      "enter project location, press [Enter] if location is C:/python_venvs:  \n",
      "repo: 101_django_template will be installed in: C:/python_venvs, [Y/N]:  Y\n"
     ]
    },
    {
     "name": "stdout",
     "output_type": "stream",
     "text": [
      "\n",
      "starting installation\n"
     ]
    }
   ],
   "source": [
    "# enter project location\n",
    "# this is the name of your Project Folder where the all your projects and venvs live\n",
    "venvsPath = \"/\".join(os.getcwd().split(\"\\\\\")[:-1])\n",
    "inputVenvsPath = input(f\"enter project location, press [Enter] if location is {venvsPath}: \")\n",
    "venvsPath = inputVenvsPath if inputVenvsPath else venvsPath\n",
    "go = input(f\"repo: {yourProjectName} will be installed in: {venvsPath}, [Y/N]: \")\n",
    "if go == \"Y\":\n",
    "    print(\"\\nstarting installation\")\n",
    "else:\n",
    "    raise Exception(\"instalation aborted, to retry import readme_setup again\")"
   ]
  },
  {
   "cell_type": "code",
   "execution_count": 5,
   "metadata": {
    "collapsed": true,
    "jupyter": {
     "outputs_hidden": true
    }
   },
   "outputs": [],
   "source": [
    "# some secrets are imported into settings.py from my_stuff.py\n",
    "# a default my_stuff.py already exists inside the same folder as settings.py\n",
    "\n",
    "# to continue with the default my_stuff.py file just assign a None value below and continue\n",
    "myStuffPath = os.path.join(venvsPath, \"99_snipp_block\", \"dj_conf_files\", \"my_stuff.py\")"
   ]
  },
  {
   "cell_type": "markdown",
   "metadata": {},
   "source": [
    "## 2.1. Install Preparation\n",
    "### 2.1.1 Define relevant paths"
   ]
  },
  {
   "cell_type": "markdown",
   "metadata": {},
   "source": [
    "### 2.1.2 Notebook does some prep work such as checking if venv exists and create some relevant paths"
   ]
  },
  {
   "cell_type": "code",
   "execution_count": 6,
   "metadata": {
    "collapsed": true,
    "jupyter": {
     "outputs_hidden": true
    }
   },
   "outputs": [
    {
     "name": "stdout",
     "output_type": "stream",
     "text": [
      "ready to go\n"
     ]
    }
   ],
   "source": [
    "# checks if venv already exists\n",
    "# no need to modify\n",
    "existingEnvironments = os.listdir(venvsPath)\n",
    "if yourProjectName in existingEnvironments:\n",
    "    raise Exception(f\"UUUUPPPPSSS: AN Environement with name {yourProjectName} already exists in {venvsPath} \\n{existingEnvironments}\")\n",
    "else:\n",
    "    print(\"ready to go\")"
   ]
  },
  {
   "cell_type": "markdown",
   "metadata": {},
   "source": [
    "### 2.1.3. venv directory will be renamed to what you specified above"
   ]
  },
  {
   "cell_type": "code",
   "execution_count": 14,
   "metadata": {
    "collapsed": true,
    "jupyter": {
     "outputs_hidden": true
    }
   },
   "outputs": [],
   "source": [
    "os.chdir(venvsPath)\n",
    "os.rename(cloneProjectName, yourProjectName)"
   ]
  },
  {
   "cell_type": "markdown",
   "metadata": {},
   "source": [
    "# 2.2. Install Environment"
   ]
  },
  {
   "cell_type": "code",
   "execution_count": 15,
   "metadata": {
    "collapsed": true,
    "jupyter": {
     "outputs_hidden": true
    }
   },
   "outputs": [
    {
     "data": {
      "text/plain": [
       "0"
      ]
     },
     "execution_count": 15,
     "metadata": {},
     "output_type": "execute_result"
    }
   ],
   "source": [
    "# this creates a empty environment inside yourVenvPath\n",
    "yourProjectPath = os.path.join(venvsPath, yourProjectName)\n",
    "subprocess.call([\"python\", \"-m\", \"venv\", os.path.join(yourProjectPath, \"venv\")], shell=True)"
   ]
  },
  {
   "cell_type": "code",
   "execution_count": 29,
   "metadata": {
    "collapsed": true,
    "jupyter": {
     "outputs_hidden": true
    }
   },
   "outputs": [
    {
     "data": {
      "text/plain": [
       "'C:\\\\python_venvs\\\\101_django_template\\\\venv\\\\Scripts\\\\activate_this.py'"
      ]
     },
     "execution_count": 29,
     "metadata": {},
     "output_type": "execute_result"
    }
   ],
   "source": [
    "# this copies files to allow subprocess to activate your environment\n",
    "newEnvActPy = os.path.join(yourProjectPath, \"venv\", \"Scripts\", \"activate_this.py\")\n",
    "shutil.copyfile(os.path.join(yourProjectPath, \"resources\", \"activate_this.py\"), newEnvActPy)"
   ]
  },
  {
   "cell_type": "code",
   "execution_count": 26,
   "metadata": {
    "collapsed": true,
    "jupyter": {
     "outputs_hidden": true
    }
   },
   "outputs": [
    {
     "name": "stdout",
     "output_type": "stream",
     "text": [
      "C:\\python_venvs\\99_snipp_block\\dj_conf_files\\my_stuff.py\n"
     ]
    }
   ],
   "source": [
    "# this copies my private my_stuff.py file from your local location into the venv\n",
    "# if you have assigned None to the myStuffPath this step will do nothing\n",
    "# you have to manually adjust your my_stuff.py file however. Its location is same as settings.py\n",
    "try:\n",
    "    print(myStuffPath)\n",
    "    shutil.copyfile(myStuffPath, os.path.join(yourProjectPath, \"web_project\", \"web_project\", \"my_stuff.py\"))\n",
    "except:\n",
    "    raise Exception(\"copying my_stuff.py failed because path does not exist! You have to manually adjust my_stuff.py. Its location is same as settings.py\")"
   ]
  },
  {
   "cell_type": "markdown",
   "metadata": {},
   "source": [
    "### 2.2.1. Installs all content of new environment, i.e. requirements.txt ect."
   ]
  },
  {
   "cell_type": "code",
   "execution_count": 30,
   "metadata": {
    "collapsed": true,
    "jupyter": {
     "outputs_hidden": true
    }
   },
   "outputs": [
    {
     "data": {
      "text/plain": [
       "0"
      ]
     },
     "execution_count": 30,
     "metadata": {},
     "output_type": "execute_result"
    }
   ],
   "source": [
    "exec(open(newEnvActPy).read(), dict(__file__ = newEnvActPy))\n",
    "# all relevant programs are installed and/or updated\n",
    "# feel free to add or remove programs\n",
    "subprocess.call([\"python\", \"-m\", \"pip\", \"install\", \"--upgrade\", \"pip\"], shell=True)\n",
    "subprocess.call([\"pip\", \"install\", \"--upgrade\", \"setuptools\"], shell=True)\n",
    "\n",
    "# i use pyperclip inside some service scripts, its not needed for this repo to run, you can remove it\n",
    "subprocess.call([\"pip\", \"install\", \"pyperclip\"], shell=True)\n",
    "\n",
    "# this installs the requirements.txt\n",
    "subprocess.call([\"pip\", \"install\", \"-r\", os.path.join(yourProjectPath, \"resources\", \"requirements.txt\")], shell=True)"
   ]
  },
  {
   "cell_type": "markdown",
   "metadata": {},
   "source": [
    "### 2.2.2. Try migrations"
   ]
  },
  {
   "cell_type": "code",
   "execution_count": 32,
   "metadata": {
    "collapsed": true,
    "jupyter": {
     "outputs_hidden": true
    }
   },
   "outputs": [
    {
     "name": "stdout",
     "output_type": "stream",
     "text": [
      "your manage.py is under C:\\python_venvs\\101_django_template\\web_project\n"
     ]
    },
    {
     "data": {
      "text/plain": [
       "0"
      ]
     },
     "execution_count": 32,
     "metadata": {},
     "output_type": "execute_result"
    }
   ],
   "source": [
    "# this makes migrations although there should be none\n",
    "os.chdir(os.path.join(yourProjectPath, \"web_project\"))\n",
    "print(f\"your manage.py is under {os.getcwd()}\")\n",
    "subprocess.call(['python', 'manage.py', 'makemigrations'], shell=True)\n",
    "subprocess.call(['python', 'manage.py', 'migrate'], shell=True)"
   ]
  },
  {
   "cell_type": "code",
   "execution_count": 33,
   "metadata": {
    "collapsed": true,
    "jupyter": {
     "outputs_hidden": true
    }
   },
   "outputs": [],
   "source": [
    "os.chdir(venvsPath)"
   ]
  },
  {
   "cell_type": "markdown",
   "metadata": {},
   "source": [
    "# The installation is now complete.\n",
    "\n",
    "Dont forget to:\n",
    "1. change the my_stuff.py file (its in the same dir as settings.py)\n",
    "2. Activate your environment: To activate it, type {{yourVenvPath}}\\Scripts/activate.bat (on windows)\n",
    "3. Create your admin user: To create it, go to the web_project folder and and run: manage.py createsuperuser\n",
    "4. Test your installation!!! To test it, go to the web_project folder and and run: python manage.py runserver"
   ]
  },
  {
   "cell_type": "markdown",
   "metadata": {},
   "source": [
    "# 3. Manual Setup\n",
    "## 3.1. Run above steps manually :)"
   ]
  },
  {
   "cell_type": "code",
   "execution_count": null,
   "metadata": {
    "collapsed": true,
    "jupyter": {
     "outputs_hidden": true
    }
   },
   "outputs": [],
   "source": []
  }
 ],
 "metadata": {
  "kernelspec": {
   "display_name": "Python 3",
   "language": "python",
   "name": "python3"
  },
  "language_info": {
   "codemirror_mode": {
    "name": "ipython",
    "version": 3
   },
   "file_extension": ".py",
   "mimetype": "text/x-python",
   "name": "python",
   "nbconvert_exporter": "python",
   "pygments_lexer": "ipython3",
   "version": "3.7.4"
  }
 },
 "nbformat": 4,
 "nbformat_minor": 4
}
