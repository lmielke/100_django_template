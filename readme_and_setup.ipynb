{
 "cells": [
  {
   "cell_type": "markdown",
   "metadata": {},
   "source": [
    "# 100_django_template"
   ]
  },
  {
   "cell_type": "code",
   "execution_count": 1,
   "metadata": {
    "collapsed": true,
    "jupyter": {
     "outputs_hidden": true
    }
   },
   "outputs": [],
   "source": [
    "from IPython.display import Image\n",
    "# imports needed to run installation routine\n",
    "import os, shutil, subprocess"
   ]
  },
  {
   "cell_type": "markdown",
   "metadata": {},
   "source": [
    "# 1. What am I"
   ]
  },
  {
   "cell_type": "markdown",
   "metadata": {},
   "source": [
    "This is a simple django template with some pre implemented features such as:\n",
    "- user signup, email confirmation,\n",
    "- user logon, password create/change\n",
    "- user authorization middleware\n",
    "- blog style article/blog page to allow in tool documentation and commenting\n",
    "- some param settings to allow multiple domains to map to this template (you may not need this, to remove, you have to make some changes the existing models and forms)\n",
    "- some pre defined css sheet"
   ]
  },
  {
   "cell_type": "code",
   "execution_count": 2,
   "metadata": {
    "collapsed": true,
    "jupyter": {
     "outputs_hidden": true
    }
   },
   "outputs": [
    {
     "name": "stdout",
     "output_type": "stream",
     "text": [
      "--Call--\n",
      "> c:\\users\\lars\\appdata\\local\\programs\\python\\python37\\lib\\site-packages\\ipython\\core\\displayhook.py(252)__call__()\n",
      "-> def __call__(self, result=None):\n"
     ]
    },
    {
     "name": "stdin",
     "output_type": "stream",
     "text": [
      "(Pdb)  continue\n"
     ]
    }
   ],
   "source": [
    "# this is to stop you from accidently running the notebook, to continue type: continue\n",
    "breakpoint()"
   ]
  },
  {
   "cell_type": "markdown",
   "metadata": {},
   "source": [
    "# 2. Setup and installation using this notebook"
   ]
  },
  {
   "cell_type": "markdown",
   "metadata": {},
   "source": [
    "This will clone the repository to your local drive, create a environment and install the requirements.txt, create a new git repro and commit all files\n",
    "1. create a venv directory for the virtual environment (the venv itself is created by this notebook)\n",
    "2. create a new github repo to manage your code (if you want)\n",
    "3. run the notebook cell by cell and follow the instructions"
   ]
  },
  {
   "cell_type": "code",
   "execution_count": 3,
   "metadata": {
    "collapsed": true,
    "jupyter": {
     "outputs_hidden": true
    }
   },
   "outputs": [],
   "source": [
    "# this is the path of my github repo\n",
    "# do not change this cell\n",
    "remoteOrigin = \"https://github.com/lmielke/100_django_template.git\"\n",
    "cloneProjectName = \"100_django_template\""
   ]
  },
  {
   "cell_type": "markdown",
   "metadata": {},
   "source": [
    "## 2.1. Install Preparation\n",
    "### 2.1.1 Define relevant paths"
   ]
  },
  {
   "cell_type": "code",
   "execution_count": 5,
   "metadata": {
    "collapsed": true,
    "jupyter": {
     "outputs_hidden": true
    }
   },
   "outputs": [],
   "source": [
    "# change all variables below\n",
    "\n",
    "# path where your venvs are located\n",
    "venvsPath = os.path.abspath(r\"C:/python_venvs\")\n",
    "\n",
    "# url to your new githup repo if you want to create a new repo\n",
    "newOrigin = \"https://github.com/lmielke/101_django_template.git\"\n",
    "\n",
    "# name of your new environment/repo/project which lives inside your venvs path\n",
    "yourProjectName = \"101_django_template\"\n",
    "\n",
    "# some private content i.e. logon info, sshd info, is not part of the 100_django_template\n",
    "# therefore I copy these files from a local location\n",
    "# if you dont have these files, you have to set both values to None\n",
    "# NOTE: you have to manually change this file\n",
    "my_stuff_path = r\"C:\\python_venvs\\99_snipp_block\\dj_conf_files\\my_stuff.py\" # set to None if no file\n",
    "# set to None if not relevant\n",
    "sshd_config_path = r\"C:\\python_venvs\\99_snipp_block\\dj_conf_files\\sshd_config\" # set to None if no file"
   ]
  },
  {
   "cell_type": "markdown",
   "metadata": {},
   "source": [
    "### 2.1.2 Notebook does some prep work such as checking if venv exists and create some relevant paths"
   ]
  },
  {
   "cell_type": "code",
   "execution_count": 6,
   "metadata": {
    "collapsed": true,
    "jupyter": {
     "outputs_hidden": true
    }
   },
   "outputs": [
    {
     "name": "stdout",
     "output_type": "stream",
     "text": [
      "ready to go\n"
     ]
    }
   ],
   "source": [
    "# check if venv already exists\n",
    "# no need to modify\n",
    "existingEnvironments = os.listdir(venvsPath)\n",
    "if yourProjectName in existingEnvironments:\n",
    "    print(f\"UUUUPPPPSSS: AN Environement with name {yourProjectName} already exists in {venvsPath} \\n{existingEnvironments}\")\n",
    "    print(\"\\n\\nNOTE: Continuing will override the existing environment and you deserve whatever happens then !!\")\n",
    "else:\n",
    "    print(\"ready to go\")"
   ]
  },
  {
   "cell_type": "code",
   "execution_count": 7,
   "metadata": {
    "collapsed": true,
    "jupyter": {
     "outputs_hidden": true
    }
   },
   "outputs": [],
   "source": [
    "# python creates some relevant paths\n",
    "# no need to modify\n",
    "newRepoPath = os.path.join(venvsPath, yourProjectName)\n",
    "newEnvPath = os.path.join(venvsPath, yourProjectName, 'venv')\n",
    "yourProjectPath = os.path.join(venvsPath, yourProjectName)\n",
    "yourVenvPath = os.path.join(yourProjectPath, 'venv')\n",
    "templateActPy = os.path.join(yourProjectPath, 'resources', 'activate_this.py')\n",
    "newEnvActPy = os.path.join(yourProjectPath, 'venv', 'Scripts', 'activate_this.py')\n",
    "newEnvReqTxt = os.path.join(yourProjectPath, 'resources', 'requirements.txt')\n",
    "djangoProjectPath = os.path.join(yourProjectPath, \"web_project\")"
   ]
  },
  {
   "cell_type": "markdown",
   "metadata": {},
   "source": [
    "### 2.1.3. Clone the repo to local venvs directory"
   ]
  },
  {
   "cell_type": "code",
   "execution_count": 8,
   "metadata": {
    "collapsed": true,
    "jupyter": {
     "outputs_hidden": true
    }
   },
   "outputs": [
    {
     "data": {
      "text/plain": [
       "0"
      ]
     },
     "execution_count": 8,
     "metadata": {},
     "output_type": "execute_result"
    }
   ],
   "source": [
    "# this will create a folder with the name you specified inside your venv folder and copy all relevant files from my repo\n",
    "os.chdir(venvsPath)\n",
    "subprocess.call(['git', 'clone', remoteOrigin], shell=True)"
   ]
  },
  {
   "cell_type": "markdown",
   "metadata": {},
   "source": [
    "### 2.1.4. venv directory will be renamed to what you specified above"
   ]
  },
  {
   "cell_type": "code",
   "execution_count": 9,
   "metadata": {
    "collapsed": true,
    "jupyter": {
     "outputs_hidden": true
    }
   },
   "outputs": [],
   "source": [
    "os.chdir(venvsPath)\n",
    "os.rename(cloneProjectName, yourProjectName)"
   ]
  },
  {
   "cell_type": "markdown",
   "metadata": {},
   "source": [
    "### 2.1.5. Remove old origin and create new one"
   ]
  },
  {
   "cell_type": "code",
   "execution_count": 17,
   "metadata": {
    "collapsed": true,
    "jupyter": {
     "outputs_hidden": true
    }
   },
   "outputs": [],
   "source": [
    "# to check: open cmd, go to Project folder and type: git remote -v\n",
    "os.chdir(yourProjectPath)\n",
    "subprocess.call([\"git\", \"remote\", \"set-url\", \"origin\", newOrigin], shell=True)"
   ]
  },
  {
   "cell_type": "markdown",
   "metadata": {},
   "source": [
    "# 2.2. Install Environment"
   ]
  },
  {
   "cell_type": "code",
   "execution_count": 11,
   "metadata": {
    "collapsed": true,
    "jupyter": {
     "outputs_hidden": true
    }
   },
   "outputs": [
    {
     "data": {
      "text/plain": [
       "0"
      ]
     },
     "execution_count": 11,
     "metadata": {},
     "output_type": "execute_result"
    }
   ],
   "source": [
    "# this creates empty environment inside yourVenvPath\n",
    "subprocess.call([\"python\", \"-m\", \"venv\", yourVenvPath], shell=True)"
   ]
  },
  {
   "cell_type": "code",
   "execution_count": 12,
   "metadata": {
    "collapsed": true,
    "jupyter": {
     "outputs_hidden": true
    }
   },
   "outputs": [],
   "source": [
    "# this copies files to activate your environment\n",
    "shutil.copyfile(templateActPy, newEnvActPy)\n",
    "# this copies my private files from my local location into the venv\n",
    "if my_stuff_path: shutil.copyfile(my_stuff_path, os.path.join(yourProjectPath, \"web_project\", \"web_project\", \"my_stuff.py\"))\n",
    "if sshd_config_path: shutil.copyfile(sshd_config_path, os.path.join(yourProjectPath, \"conf_files\", \"sshd_config\"))"
   ]
  },
  {
   "cell_type": "markdown",
   "metadata": {},
   "source": [
    "### 2.2.1. Installs all content of new environment, i.e. requirements.txt ect."
   ]
  },
  {
   "cell_type": "code",
   "execution_count": 13,
   "metadata": {
    "collapsed": true,
    "jupyter": {
     "outputs_hidden": true
    }
   },
   "outputs": [
    {
     "data": {
      "text/plain": [
       "0"
      ]
     },
     "execution_count": 13,
     "metadata": {},
     "output_type": "execute_result"
    }
   ],
   "source": [
    "exec(open(newEnvActPy).read(), dict(__file__ = newEnvActPy))\n",
    "# all relevant programs are installed and/or updated\n",
    "subprocess.call([\"python\", \"-m\", \"pip\", \"install\", \"--upgrade\", \"pip\"], shell=True)\n",
    "subprocess.call([\"pip\", \"install\", \"--upgrade\", \"setuptools\"], shell=True)\n",
    "subprocess.call([\"pip\", \"install\", \"pyperclip\"], shell=True)\n",
    "# this installs the requirements.txt\n",
    "subprocess.call([\"pip\", \"install\", \"-r\", newEnvReqTxt], shell=True)"
   ]
  },
  {
   "cell_type": "markdown",
   "metadata": {},
   "source": [
    "### 2.2.2. Try migrations"
   ]
  },
  {
   "cell_type": "code",
   "execution_count": 14,
   "metadata": {
    "collapsed": true,
    "jupyter": {
     "outputs_hidden": true
    }
   },
   "outputs": [
    {
     "name": "stdout",
     "output_type": "stream",
     "text": [
      "C:\\python_venvs\\101_django_template\\web_project\n"
     ]
    },
    {
     "data": {
      "text/plain": [
       "0"
      ]
     },
     "execution_count": 14,
     "metadata": {},
     "output_type": "execute_result"
    }
   ],
   "source": [
    "# this makes migrations although there should be none\n",
    "os.chdir(djangoProjectPath)\n",
    "print(djangoProjectPath)\n",
    "subprocess.call(['python', 'manage.py', 'makemigrations'], shell=True)\n",
    "subprocess.call(['python', 'manage.py', 'migrate'], shell=True)"
   ]
  },
  {
   "cell_type": "code",
   "execution_count": 15,
   "metadata": {
    "collapsed": true,
    "jupyter": {
     "outputs_hidden": true
    }
   },
   "outputs": [],
   "source": [
    "os.chdir(venvsPath)"
   ]
  },
  {
   "cell_type": "markdown",
   "metadata": {},
   "source": [
    "# The installation is now complete.\n",
    "\n",
    "Dont forget to:\n",
    "1. change the my_stuff.py file (its in the same dir as settings.py)\n",
    "2. ad a sshd_config file if needed (should not be relevant for your right now)\n",
    "3. Activate your environment: To activate it, type {{yourVenvPath}}\\Scripts/activate.bat (on windows)\n",
    "4. Create your admin user: To create it, go to the web_project folder and and run: manage.py createsuperuser\n",
    "5. Test your installation!!! To test it, go to the web_project folder and and run: python manage.py runserver"
   ]
  },
  {
   "cell_type": "markdown",
   "metadata": {},
   "source": [
    "# 3. Manual Setup\n",
    "## 3.1. Run above steps manually :)"
   ]
  },
  {
   "cell_type": "code",
   "execution_count": null,
   "metadata": {
    "collapsed": true,
    "jupyter": {
     "outputs_hidden": true
    }
   },
   "outputs": [],
   "source": []
  }
 ],
 "metadata": {
  "kernelspec": {
   "display_name": "Python 3",
   "language": "python",
   "name": "python3"
  },
  "language_info": {
   "codemirror_mode": {
    "name": "ipython",
    "version": 3
   },
   "file_extension": ".py",
   "mimetype": "text/x-python",
   "name": "python",
   "nbconvert_exporter": "python",
   "pygments_lexer": "ipython3",
   "version": "3.7.4"
  }
 },
 "nbformat": 4,
 "nbformat_minor": 4
}
